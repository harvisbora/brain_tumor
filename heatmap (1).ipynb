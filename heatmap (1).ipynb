{
  "nbformat": 4,
  "nbformat_minor": 0,
  "metadata": {
    "colab": {
      "provenance": []
    },
    "kernelspec": {
      "name": "python3",
      "display_name": "Python 3"
    },
    "language_info": {
      "name": "python"
    }
  },
  "cells": [
    {
      "cell_type": "code",
      "execution_count": null,
      "metadata": {
        "id": "i02sSIo1uqNQ"
      },
      "outputs": [],
      "source": [
        "#%% IMPORTING LIBRARIES\n",
        "\n",
        "import numpy as np\n",
        "import tensorflow as tf\n",
        "import matplotlib.cm as cm\n",
        "from tensorflow import keras\n",
        "import matplotlib.pyplot as plt\n",
        "from IPython.display import Image"
      ]
    },
    {
      "cell_type": "code",
      "source": [
        "layer_names = [layer.name for layer in keras_model.layers]\n",
        "layer_names"
      ],
      "metadata": {
        "id": "au2Ctc4gusmV"
      },
      "execution_count": null,
      "outputs": []
    },
    {
      "cell_type": "code",
      "source": [
        "#%% CREATING THE HEATMAP FROM THE LAYERS' ACTIVATIONS\n",
        "\n",
        "img_size = (224, 224)\n",
        "layer_names=[layer.name for layer in keras_model.layers]\n",
        "\n",
        "last_conv_layer_name = 'conv2d_15'\n",
        "classifier_layer_names = [\n",
        "    'max_pooling2d_7',\n",
        "    'flatten_3',\n",
        "    'dense_9',\n",
        "    'dropout_6',\n",
        "    'dense_10',\n",
        "    'dropout_7',\n",
        "    'dense_11']\n",
        "\n",
        "def make_gradcam_heatmap(\n",
        "    img_array, model, last_conv_layer_name, classifier_layer_names\n",
        "):\n",
        "    \n",
        "    #img_array = test_set[0][8]\n",
        "    img_array = img_array.reshape(1,224,224,1)\n",
        "    img_array = img_array[:1]\n",
        "    \n",
        "    # First, we create a model that maps the input image to the activations\n",
        "    # of the last conv layer\n",
        "    last_conv_layer = model.get_layer(last_conv_layer_name)\n",
        "    last_conv_layer_model = keras.Model(model.inputs, last_conv_layer.output)\n",
        "\n",
        "    # Second, we create a model that maps the activations of the last conv\n",
        "    # layer to the final class predictions\n",
        "    classifier_input = keras.Input(shape=last_conv_layer.output.shape[1:])\n",
        "    x = classifier_input\n",
        "    for layer_name in classifier_layer_names:\n",
        "        x = model.get_layer(layer_name)(x)\n",
        "    classifier_model = keras.Model(classifier_input, x)\n",
        "\n",
        "    # Then, we compute the gradient of the top predicted class for our input image\n",
        "    # with respect to the activations of the last conv layer\n",
        "    with tf.GradientTape() as tape:\n",
        "        # Compute activations of the last conv layer and make the tape watch it\n",
        "        last_conv_layer_output = last_conv_layer_model(img_array)\n",
        "        tape.watch(last_conv_layer_output)\n",
        "        # Compute class predictions\n",
        "        preds = classifier_model(last_conv_layer_output)\n",
        "        top_pred_index = tf.argmax(preds[0])\n",
        "        top_class_channel = preds[:, top_pred_index]\n",
        "\n",
        "    # This is the gradient of the top predicted class with regard to\n",
        "    # the output feature map of the last conv layer\n",
        "    grads = tape.gradient(top_class_channel, last_conv_layer_output)\n",
        "\n",
        "    # This is a vector where each entry is the mean intensity of the gradient\n",
        "    # over a specific feature map channel\n",
        "    pooled_grads = tf.reduce_mean(grads, axis=(0, 1,2))\n",
        "\n",
        "    # We multiply each channel in the feature map array\n",
        "    # by \"how important this channel is\" with regard to the top predicted class\n",
        "    last_conv_layer_output = last_conv_layer_output.numpy()[0]\n",
        "    pooled_grads = pooled_grads.numpy()\n",
        "    for i in range(pooled_grads.shape[-1]):\n",
        "        last_conv_layer_output[:, :, i] *= pooled_grads[i]\n",
        "\n",
        "    # The channel-wise mean of the resulting feature map\n",
        "    # is our heatmap of class activation\n",
        "    heatmap = np.mean(last_conv_layer_output, axis=-1)\n",
        "\n",
        "    # For visualization purpose, we will also normalize the heatmap between 0 & 1\n",
        "    heatmap = np.maximum(heatmap, 0) / np.max(heatmap)\n",
        "    return heatmap\n",
        "#%% "
      ],
      "metadata": {
        "id": "u9WSxB_PuuPk"
      },
      "execution_count": null,
      "outputs": []
    },
    {
      "cell_type": "code",
      "source": [
        "#%% DEFINING A FUNCTION TO DISPLAY THE HEATMAP ON THE REAL IMAGE\n",
        "\n",
        "def display(heatmap, img):\n",
        "    heatmap = np.uint8(255 * heatmap)\n",
        "    # We use jet colormap to colorize heatmap\n",
        "    jet = cm.get_cmap(\"jet\")\n",
        "\n",
        "    # We use RGB values of the colormap\n",
        "    jet_colors = jet(np.arange(256))[:, :3]\n",
        "    jet_heatmap = jet_colors[heatmap]\n",
        "\n",
        "    # We create an image with RGB colorized heatmap\n",
        "    jet_heatmap = keras.preprocessing.image.array_to_img(jet_heatmap)\n",
        "    jet_heatmap = jet_heatmap.resize((img.shape[1], img.shape[1]))\n",
        "    jet_heatmap = keras.preprocessing.image.img_to_array(jet_heatmap)\n",
        "    \n",
        "    # Superimpose the heatmap on original image\n",
        "    superimposed_img = jet_heatmap * 0.005 + img.reshape(224,224,1)  #img_array.reshape(224,224,1)\n",
        "    superimposed_img = keras.preprocessing.image.array_to_img(superimposed_img)\n",
        "    \n",
        "    return superimposed_img"
      ],
      "metadata": {
        "id": "CMn4f9iGuwSI"
      },
      "execution_count": null,
      "outputs": []
    },
    {
      "cell_type": "code",
      "source": [
        "#%% OBSERVING THE RAW IMAGE, THE HEATMAP AND THE SUPERIMPOSED IMAGES TOGETHER\n",
        "\n",
        "for img in images10:\n",
        "    heatmap = make_gradcam_heatmap(img,\n",
        "                                   keras_model,\n",
        "                                   last_conv_layer_name,\n",
        "                                   classifier_layer_names)\n",
        "    fig, (ax1, ax2, ax3) = plt.subplots(1,3, figsize= (10,5))\n",
        "    \n",
        "    ax1.imshow(img.reshape(224,224), cmap = 'gray')\n",
        "    ax1.set_title('Raw MRI image')\n",
        "    ax2.matshow(heatmap)\n",
        "    ax3.imshow(display(heatmap,img))\n",
        "    ax3.set_title('Superimposed Activation Heatmap')"
      ],
      "metadata": {
        "id": "XQla3-jeuyFj"
      },
      "execution_count": null,
      "outputs": []
    }
  ]
}